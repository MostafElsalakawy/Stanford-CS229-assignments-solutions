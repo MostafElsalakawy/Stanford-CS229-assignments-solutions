{
 "cells": [
  {
   "cell_type": "code",
   "execution_count": 2,
   "id": "d34a482e-9d57-4979-8af7-fccf4d82ad89",
   "metadata": {},
   "outputs": [],
   "source": [
    "import numpy as np\n",
    "import matplotlib.pyplot as plt"
   ]
  },
  {
   "cell_type": "code",
   "execution_count": 80,
   "id": "a58d1cd1-fa37-4d3b-b787-f2f7efde394e",
   "metadata": {},
   "outputs": [],
   "source": [
    "data = np.loadtxt(\"ex1data2.txt\",delimiter=',')\n",
    "x_input=data[:,0:2]\n",
    "y_input=data[:,-1]\n",
    "m=data.shape[0]\n",
    "n=x_input.shape[1]\n",
    "y_input=y_input.reshape((m,1))"
   ]
  },
  {
   "cell_type": "code",
   "execution_count": 81,
   "id": "fce9eef4-a743-4cb5-824a-4af8eb2ada51",
   "metadata": {},
   "outputs": [
    {
     "data": {
      "text/plain": [
       "2"
      ]
     },
     "execution_count": 81,
     "metadata": {},
     "output_type": "execute_result"
    }
   ],
   "source": [
    "n"
   ]
  },
  {
   "cell_type": "code",
   "execution_count": 82,
   "id": "9ebbec55-bf4f-4938-9b52-7993bb178961",
   "metadata": {},
   "outputs": [],
   "source": [
    "def featureNormaliz(x):\n",
    "    x_norm=x_input\n",
    "    n=x_norm.shape[1]\n",
    "    mu=np.mean(x_input,axis=0)\n",
    "    sigma=np.std(x_input,axis=0)\n",
    "    x_norm=(x_input-mu)/sigma\n",
    "    return x_norm , mu , sigma"
   ]
  },
  {
   "cell_type": "code",
   "execution_count": 83,
   "id": "759d0826-234e-46fe-abbf-fdcdddd4cd12",
   "metadata": {},
   "outputs": [],
   "source": [
    "x_norm , mu , sigma =featureNormaliz(x_input)"
   ]
  },
  {
   "cell_type": "code",
   "execution_count": 84,
   "id": "7ac5cb96-3cbe-49cd-a06e-3c02180f6831",
   "metadata": {},
   "outputs": [
    {
     "data": {
      "text/plain": [
       "(3, 1)"
      ]
     },
     "execution_count": 84,
     "metadata": {},
     "output_type": "execute_result"
    }
   ],
   "source": [
    "# add coloumn of ones to input data for intercept term\n",
    "x=np.insert(x_norm,0,np.ones(m),axis=1)\n",
    "n=n+1    # number of features increament by 1 (x0)\n",
    "theta=np.zeros((n,1))  # initialize theta to 0\n",
    "theta.shape"
   ]
  },
  {
   "cell_type": "code",
   "execution_count": 85,
   "id": "226beca6-df97-417a-8bdc-870e570a6e0e",
   "metadata": {},
   "outputs": [],
   "source": [
    "def compute_cost(X, y, theta):\n",
    "    h_x=np.dot(x,theta)\n",
    "    J_theta=0.5*(1/m)*np.sum(np.square(np.subtract(y,h_x)))\n",
    "    return J_theta\n",
    "    \n",
    "    "
   ]
  },
  {
   "cell_type": "code",
   "execution_count": 86,
   "id": "5d74e497-a8fd-439b-b203-bf65183d14bc",
   "metadata": {},
   "outputs": [],
   "source": [
    "def gradient_descent(x, y, theta, alpha, num_iters):\n",
    "    J_history=[]\n",
    "    for i in range(num_iters):\n",
    "        h_x=np.dot(x,theta)\n",
    "        theta=theta-(alpha)*(1/m)*np.dot(np.transpose(x),np.subtract(h_x,y))\n",
    "        J_history.append(compute_cost(x,y,theta))\n",
    "    return theta , J_history\n",
    "    \n",
    "    "
   ]
  },
  {
   "cell_type": "code",
   "execution_count": 87,
   "id": "69d60548-df29-4cf2-92a3-9fbcaa2d2932",
   "metadata": {},
   "outputs": [],
   "source": [
    "alpha=0.01\n",
    "iteration=1500\n",
    "theta,J_history=gradient_descent(x,y_input,theta,alpha,iteration)"
   ]
  },
  {
   "cell_type": "code",
   "execution_count": 88,
   "id": "dc281a2f-b8e2-4d1f-b11f-d11b72f591ac",
   "metadata": {},
   "outputs": [
    {
     "data": {
      "text/plain": [
       "array([[340412.56301439],\n",
       "       [109370.05670466],\n",
       "       [ -6500.61509507]])"
      ]
     },
     "execution_count": 88,
     "metadata": {},
     "output_type": "execute_result"
    }
   ],
   "source": [
    "theta"
   ]
  },
  {
   "cell_type": "code",
   "execution_count": 89,
   "id": "87482012-0679-49be-9ff3-4745b412775f",
   "metadata": {},
   "outputs": [],
   "source": [
    "def normalizedFunc(x,y):\n",
    "    theta2=np.zeros((n,1))\n",
    "    x_t=np.transpose(x)\n",
    "    xt_x=np.dot(x_t,x)\n",
    "    xt_y=np.dot(x_t,y)\n",
    "    theta2=np.dot(np.linalg.inv(xt_x),xt_y)   #inv(x_t.X).x_t.y\n",
    "    return theta2   # theta2=theta "
   ]
  },
  {
   "cell_type": "code",
   "execution_count": 90,
   "id": "0d4205b7-cd2b-4ec1-9509-40131d09e520",
   "metadata": {},
   "outputs": [],
   "source": [
    "theta2=normalizedFunc(x,y_input)"
   ]
  },
  {
   "cell_type": "code",
   "execution_count": 93,
   "id": "28ce1b17-51b9-42e5-af62-6a4d9a098dfa",
   "metadata": {},
   "outputs": [
    {
     "data": {
      "text/plain": [
       "array([[340412.65957447],\n",
       "       [109447.79646964],\n",
       "       [ -6578.35485416]])"
      ]
     },
     "execution_count": 93,
     "metadata": {},
     "output_type": "execute_result"
    }
   ],
   "source": [
    "theta2   #optimal theta"
   ]
  },
  {
   "cell_type": "code",
   "execution_count": 92,
   "id": "fb1d5b61-bee6-4787-85de-aa18cc4acc7b",
   "metadata": {},
   "outputs": [
    {
     "data": {
      "image/png": "[encoded data removed]",
      "text/plain": [
       "<Figure size 640x480 with 1 Axes>"
      ]
     },
     "metadata": {},
     "output_type": "display_data"
    }
   ],
   "source": [
    "plt.figure()\n",
    "plt.plot(range(0,iteration),J_history,'g')\n",
    "plt.xlabel('number of iteration')\n",
    "plt.ylabel('cost J')\n",
    "plt.show()"
   ]
  },
  {
   "cell_type": "code",
   "execution_count": null,
   "id": "b07ee6b6-ef08-4d50-afeb-7ce662eff8f5",
   "metadata": {},
   "outputs": [],
   "source": []
  }
 ],
 "metadata": {
  "kernelspec": {
   "display_name": "Python 3 (ipykernel)",
   "language": "python",
   "name": "python3"
  },
  "language_info": {
   "codemirror_mode": {
    "name": "ipython",
    "version": 3
   },
   "file_extension": ".py",
   "mimetype": "text/x-python",
   "name": "python",
   "nbconvert_exporter": "python",
   "pygments_lexer": "ipython3",
   "version": "3.13.2"
  }
 },
 "nbformat": 4,
 "nbformat_minor": 5
}
