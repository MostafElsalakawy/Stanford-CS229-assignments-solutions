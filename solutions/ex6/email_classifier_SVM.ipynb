{
 "cells": [
  {
   "cell_type": "code",
   "execution_count": 72,
   "id": "d34a482e-9d57-4979-8af7-fccf4d82ad89",
   "metadata": {},
   "outputs": [],
   "source": [
    "import numpy as np\n",
    "import matplotlib.pyplot as plt\n",
    "import re\n",
    "import nltk, nltk.stem.porter\n",
    "import scipy.io as scio\n",
    "from sklearn import svm"
   ]
  },
  {
   "cell_type": "code",
   "execution_count": 4,
   "id": "b7129392-c7eb-4ac8-9caf-d0055c37615e",
   "metadata": {},
   "outputs": [],
   "source": [
    "def get_vocab_list():\n",
    "    vocab_dict = {}\n",
    "    with open('vocab.txt') as f:\n",
    "        for line in f:\n",
    "            (val, key) = line.split()\n",
    "            vocab_dict[int(val)] = key\n",
    "\n",
    "    return vocab_dict"
   ]
  },
  {
   "cell_type": "code",
   "execution_count": 6,
   "id": "a890d24f-c4cd-4fa5-8d95-b6fae609df3e",
   "metadata": {},
   "outputs": [],
   "source": [
    "email_contents = open('emailSample1.txt', 'r').read()"
   ]
  },
  {
   "cell_type": "code",
   "execution_count": 45,
   "id": "0f021f85-2e45-49c9-a539-6af6e342a182",
   "metadata": {},
   "outputs": [
    {
     "name": "stderr",
     "output_type": "stream",
     "text": [
      "<>:18: SyntaxWarning: invalid escape sequence '\\s'\n",
      "<>:21: SyntaxWarning: invalid escape sequence '\\s'\n",
      "<>:32: SyntaxWarning: invalid escape sequence '\\['\n",
      "<>:18: SyntaxWarning: invalid escape sequence '\\s'\n",
      "<>:21: SyntaxWarning: invalid escape sequence '\\s'\n",
      "<>:32: SyntaxWarning: invalid escape sequence '\\['\n",
      "C:\\Users\\Elmostafa\\AppData\\Local\\Temp\\ipykernel_27680\\223703872.py:18: SyntaxWarning: invalid escape sequence '\\s'\n",
      "  email_contents = re.sub('(http|https)://[^\\s]*', 'httpaddr', email_contents)\n",
      "C:\\Users\\Elmostafa\\AppData\\Local\\Temp\\ipykernel_27680\\223703872.py:21: SyntaxWarning: invalid escape sequence '\\s'\n",
      "  email_contents = re.sub('[^\\s]+@[^\\s]+', 'emailaddr', email_contents)\n",
      "C:\\Users\\Elmostafa\\AppData\\Local\\Temp\\ipykernel_27680\\223703872.py:32: SyntaxWarning: invalid escape sequence '\\['\n",
      "  tokens = re.split('[@$/#.-:&*+=\\[\\]?!(){\\},\\'\\\">_<;% ]', email_contents)\n"
     ]
    }
   ],
   "source": [
    "def process_email(email_contents):\n",
    "\n",
    "    \n",
    "    vocab_list = get_vocab_list()\n",
    "\n",
    "    word_indices = np.array([], dtype=np.int64)\n",
    "\n",
    "    # ===================== Preprocess Email =====================\n",
    "\n",
    "    email_contents = email_contents.lower()\n",
    "\n",
    "    email_contents = re.sub('<[^<>]+>', ' ', email_contents)\n",
    "\n",
    "    # Any numbers get replaced with the string 'number'\n",
    "    email_contents = re.sub('[0-9]+', 'number', email_contents)\n",
    "\n",
    "    # Anything starting with http or https:// replaced with 'httpaddr'\n",
    "    email_contents = re.sub('(http|https)://[^\\s]*', 'httpaddr', email_contents)\n",
    "\n",
    "    # Strings with \"@\" in the middle are considered emails --> 'emailaddr'\n",
    "    email_contents = re.sub('[^\\s]+@[^\\s]+', 'emailaddr', email_contents)\n",
    "\n",
    "    # The '$' sign gets replaced with 'dollar'\n",
    "    email_contents = re.sub('[$]+', 'dollar', email_contents)\n",
    "\n",
    "    # ===================== Tokenize Email =====================\n",
    "\n",
    "    stemmer = nltk.stem.porter.PorterStemmer()\n",
    "\n",
    "    # print('email contents : {}'.format(email_contents))\n",
    "\n",
    "    tokens = re.split('[@$/#.-:&*+=\\[\\]?!(){\\},\\'\\\">_<;% ]', email_contents)\n",
    "\n",
    "    for token in tokens:\n",
    "        token = re.sub('[^a-zA-Z0-9]', '', token)\n",
    "        token = stemmer.stem(token)\n",
    "\n",
    "        if len(token) < 1:\n",
    "            continue\n",
    "\n",
    "        if token in vocab_list.values():\n",
    "            index = [key for key, value in vocab_list.items() if value == token]\n",
    "            word_indices=np.append(word_indices,index)\n",
    "            \n",
    "            \n",
    "    return word_indices           \n",
    "\n",
    "\n",
    "\n",
    "        \n",
    "\n",
    "        \n",
    "\n",
    "    \n",
    "\n",
    "    "
   ]
  },
  {
   "cell_type": "code",
   "execution_count": 64,
   "id": "159ea0d2-0957-46ba-a364-9ec14527d09c",
   "metadata": {},
   "outputs": [],
   "source": [
    "word_indices=process_email(email_contents)"
   ]
  },
  {
   "cell_type": "code",
   "execution_count": 65,
   "id": "411661b0-a453-4fa8-8f86-bf770501f993",
   "metadata": {},
   "outputs": [],
   "source": [
    "# Total number of words in the dictionary\n",
    "def email_features(word_indices):\n",
    "    n = 1899\n",
    "    features = np.zeros(n + 1)\n",
    "\n",
    "    features[word_indices]=1\n",
    "    return features\n",
    "    \n",
    "\n",
    "\n"
   ]
  },
  {
   "cell_type": "code",
   "execution_count": 66,
   "id": "84f79d06-0959-4c9a-840f-aac3bccf6d24",
   "metadata": {},
   "outputs": [],
   "source": [
    "features = email_features(word_indices)"
   ]
  },
  {
   "cell_type": "code",
   "execution_count": 74,
   "id": "4b15b5ec-09fc-4fab-bc30-eaf1e9357092",
   "metadata": {},
   "outputs": [
    {
     "name": "stdout",
     "output_type": "stream",
     "text": [
      "Training Accuracy: 99.825\n"
     ]
    }
   ],
   "source": [
    "# ===================== Part 3: Train Linear SVM for Spam Classification =====================\n",
    "# In this section, you will train a linear classifier to determine if an\n",
    "# email is Spam or Not-spam.\n",
    "data = scio.loadmat('spamTrain.mat')\n",
    "X = data['X']\n",
    "y = data['y'].flatten()\n",
    "c = 0.1\n",
    "clf = svm.SVC(C=c, kernel='linear')\n",
    "clf.fit(X, y)\n",
    "\n",
    "p = clf.predict(X)\n",
    "\n",
    "print('Training Accuracy: {}'.format(np.mean(p == y) * 100))"
   ]
  },
  {
   "cell_type": "code",
   "execution_count": 77,
   "id": "f55e30eb-36ab-4129-8144-ddea64366299",
   "metadata": {},
   "outputs": [
    {
     "name": "stdout",
     "output_type": "stream",
     "text": [
      "Test Accuracy: 98.9\n"
     ]
    }
   ],
   "source": [
    "# ===================== Part 4: Test Spam Classification =====================\n",
    "# After training the classifier, we can evaluate it on a test set. We have\n",
    "# included a test set in spamTest.mat\n",
    "\n",
    "# Load the test dataset\n",
    "data = scio.loadmat('spamTest.mat')\n",
    "Xtest = data['Xtest']\n",
    "ytest = data['ytest'].flatten()\n",
    "\n",
    "p = clf.predict(Xtest)\n",
    "\n",
    "print('Test Accuracy: {}'.format(np.mean(p == ytest) * 100))"
   ]
  },
  {
   "cell_type": "code",
   "execution_count": null,
   "id": "24797c0d-148b-4e20-9e08-c7b2cdcb7c89",
   "metadata": {},
   "outputs": [],
   "source": []
  }
 ],
 "metadata": {
  "kernelspec": {
   "display_name": "Python 3 (ipykernel)",
   "language": "python",
   "name": "python3"
  },
  "language_info": {
   "codemirror_mode": {
    "name": "ipython",
    "version": 3
   },
   "file_extension": ".py",
   "mimetype": "text/x-python",
   "name": "python",
   "nbconvert_exporter": "python",
   "pygments_lexer": "ipython3",
   "version": "3.13.2"
  }
 },
 "nbformat": 4,
 "nbformat_minor": 5
}
